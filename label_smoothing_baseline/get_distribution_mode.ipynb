{
 "cells": [
  {
   "cell_type": "code",
   "execution_count": 9,
   "metadata": {},
   "outputs": [],
   "source": [
    "import json\n",
    "import seaborn as sns\n",
    "import matplotlib.pyplot as plt\n",
    "\n",
    "import numpy as np\n",
    "from collections import Counter\n"
   ]
  },
  {
   "cell_type": "code",
   "execution_count": 18,
   "metadata": {},
   "outputs": [],
   "source": [
    "data = json.load(open(\n",
    "    '../new_exp/hf_processed/envent_test_repeated_hf_processed.json'\n",
    "))\n",
    "\n",
    "TRESHOLD = 10 / len(data)\n",
    "\n",
    "dim_dist_mode_count = {}\n",
    "\n",
    "for situation_dict in data:\n",
    "    cur_appraisal_d_lst = situation_dict['appraisal_d_list']\n",
    "    appraisal_dimension_scores = {}\n",
    "\n",
    "    for cur_appraisal_d in cur_appraisal_d_lst:\n",
    "        cur_appraisal_d = cur_appraisal_d['appraisal_d']\n",
    "        for appraisal_d_name, appraisal_d_score in cur_appraisal_d.items():\n",
    "            if appraisal_d_name not in appraisal_dimension_scores:\n",
    "                appraisal_dimension_scores[appraisal_d_name] = []\n",
    "            appraisal_dimension_scores[appraisal_d_name].append(appraisal_d_score)\n",
    "\n",
    "\n",
    "    for dim, dim_lst in appraisal_dimension_scores.items():\n",
    "        dim_occurance_count = Counter(dim_lst)\n",
    "\n",
    "        if dim not in dim_dist_mode_count:\n",
    "            dim_dist_mode_count[dim] = {\n",
    "                '1': 0,\n",
    "                '2': 0,\n",
    "                '3': 0,\n",
    "                '4': 0,\n",
    "                '5': 0\n",
    "            }\n",
    "\n",
    "        mode = 0\n",
    "        for occurance, count in dim_occurance_count.items():\n",
    "            if count >= 2:\n",
    "                mode += 1\n",
    "\n",
    "        if mode == 0:\n",
    "            mode = 5\n",
    "\n",
    "        dim_dist_mode_count[dim][str(mode)] += 1"
   ]
  },
  {
   "cell_type": "code",
   "execution_count": 19,
   "metadata": {},
   "outputs": [
    {
     "data": {
      "text/plain": [
       "{'suddenness': {'1': 716, '2': 468, '3': 0, '4': 0, '5': 16},\n",
       " 'familiarity': {'1': 701, '2': 484, '3': 0, '4': 0, '5': 15},\n",
       " 'predict_event': {'1': 695, '2': 493, '3': 0, '4': 0, '5': 12},\n",
       " 'pleasantness': {'1': 905, '2': 293, '3': 0, '4': 0, '5': 2},\n",
       " 'unpleasantness': {'1': 856, '2': 339, '3': 0, '4': 0, '5': 5},\n",
       " 'goal_relevance': {'1': 725, '2': 462, '3': 0, '4': 0, '5': 13},\n",
       " 'chance_responsblt': {'1': 813, '2': 372, '3': 0, '4': 0, '5': 15},\n",
       " 'self_responsblt': {'1': 798, '2': 394, '3': 0, '4': 0, '5': 8},\n",
       " 'other_responsblt': {'1': 793, '2': 396, '3': 0, '4': 0, '5': 11},\n",
       " 'predict_conseq': {'1': 686, '2': 497, '3': 0, '4': 0, '5': 17},\n",
       " 'goal_support': {'1': 786, '2': 398, '3': 0, '4': 0, '5': 16},\n",
       " 'urgency': {'1': 734, '2': 446, '3': 0, '4': 0, '5': 20},\n",
       " 'self_control': {'1': 700, '2': 489, '3': 0, '4': 0, '5': 11},\n",
       " 'other_control': {'1': 734, '2': 453, '3': 0, '4': 0, '5': 13},\n",
       " 'chance_control': {'1': 784, '2': 405, '3': 0, '4': 0, '5': 11},\n",
       " 'accept_conseq': {'1': 675, '2': 506, '3': 0, '4': 0, '5': 19},\n",
       " 'standards': {'1': 843, '2': 345, '3': 0, '4': 0, '5': 12},\n",
       " 'social_norms': {'1': 941, '2': 251, '3': 0, '4': 0, '5': 8},\n",
       " 'attention': {'1': 662, '2': 513, '3': 0, '4': 0, '5': 25},\n",
       " 'not_consider': {'1': 819, '2': 374, '3': 0, '4': 0, '5': 7},\n",
       " 'effort': {'1': 712, '2': 476, '3': 0, '4': 0, '5': 12}}"
      ]
     },
     "execution_count": 19,
     "metadata": {},
     "output_type": "execute_result"
    }
   ],
   "source": [
    "dim_dist_mode_count"
   ]
  },
  {
   "cell_type": "code",
   "execution_count": 14,
   "metadata": {},
   "outputs": [
    {
     "data": {
      "text/plain": [
       "2"
      ]
     },
     "execution_count": 14,
     "metadata": {},
     "output_type": "execute_result"
    }
   ],
   "source": [
    "occurance"
   ]
  },
  {
   "cell_type": "code",
   "execution_count": 15,
   "metadata": {},
   "outputs": [
    {
     "data": {
      "text/plain": [
       "1"
      ]
     },
     "execution_count": 15,
     "metadata": {},
     "output_type": "execute_result"
    }
   ],
   "source": [
    "count"
   ]
  },
  {
   "cell_type": "code",
   "execution_count": null,
   "metadata": {},
   "outputs": [],
   "source": []
  }
 ],
 "metadata": {
  "kernelspec": {
   "display_name": "masktom",
   "language": "python",
   "name": "python3"
  },
  "language_info": {
   "codemirror_mode": {
    "name": "ipython",
    "version": 3
   },
   "file_extension": ".py",
   "mimetype": "text/x-python",
   "name": "python",
   "nbconvert_exporter": "python",
   "pygments_lexer": "ipython3",
   "version": "3.10.14"
  }
 },
 "nbformat": 4,
 "nbformat_minor": 2
}
